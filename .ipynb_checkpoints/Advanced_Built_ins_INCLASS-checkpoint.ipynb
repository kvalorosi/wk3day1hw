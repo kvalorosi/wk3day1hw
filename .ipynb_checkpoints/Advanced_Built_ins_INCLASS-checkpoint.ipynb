{
 "cells": [
  {
   "cell_type": "markdown",
   "metadata": {},
   "source": [
    "# Map, Filter, Reduce, Lambda & Recursion"
   ]
  },
  {
   "cell_type": "markdown",
   "metadata": {},
   "source": [
    "## Tasks Today:\n",
    "\n",
    "1) <b>Lambda Functions</b> <br>\n",
    " &nbsp;&nbsp;&nbsp;&nbsp; a) Syntax <br>\n",
    " &nbsp;&nbsp;&nbsp;&nbsp; b) Saving to a Variable <br>\n",
    " &nbsp;&nbsp;&nbsp;&nbsp; c) Multiple Inputs <br>\n",
    " &nbsp;&nbsp;&nbsp;&nbsp; d) Passing a Lambda into a Function <br>\n",
    " &nbsp;&nbsp;&nbsp;&nbsp; e) Returning a Lambda from a Function <br>\n",
    " &nbsp;&nbsp;&nbsp;&nbsp; f) In-Class Exercise #1 <br>\n",
    "2) <b>Map</b> <br>\n",
    " &nbsp;&nbsp;&nbsp;&nbsp; a) Syntax <br>\n",
    " &nbsp;&nbsp;&nbsp;&nbsp; b) Using Lambda's with Map <br>\n",
    " &nbsp;&nbsp;&nbsp;&nbsp; c) In-Class Exercise #2 <br>\n",
    "3) <b>Filter</b> <br>\n",
    " &nbsp;&nbsp;&nbsp;&nbsp; a) Syntax <br>\n",
    " &nbsp;&nbsp;&nbsp;&nbsp; b) Using Lambda's with Filter <br>\n",
    " &nbsp;&nbsp;&nbsp;&nbsp; c) In-Class Exercise #3 <br>\n",
    "4) <b>Reduce</b> <br>\n",
    " &nbsp;&nbsp;&nbsp;&nbsp; a) Syntax <br>\n",
    " &nbsp;&nbsp;&nbsp;&nbsp; b) Using Lambda's with Reduce <br>\n",
    " &nbsp;&nbsp;&nbsp;&nbsp; c) In-Class Exercise #4 <br>\n",
    "5) <b>Recursion</b> <br>\n",
    " &nbsp;&nbsp;&nbsp;&nbsp; a) Implementing a Base <br>\n",
    " &nbsp;&nbsp;&nbsp;&nbsp; b) Writing a Factorial Function <br>\n",
    " &nbsp;&nbsp;&nbsp;&nbsp; c) In-Class Exercise #5 <br>\n",
    "6) <b>Generators & Iterators</b> <br>\n",
    " &nbsp;&nbsp;&nbsp;&nbsp; a) Yield Keyword <br>\n",
    " &nbsp;&nbsp;&nbsp;&nbsp; b) Inifinite Generator <br>\n",
    " &nbsp;&nbsp;&nbsp;&nbsp; c) In-Class Exercise #6 <br>\n",
    "7) <b>Exercises</b> <br>\n",
    " &nbsp;&nbsp;&nbsp;&nbsp; a) Exercise #1 - Filtering Empty Strings <br>\n",
    " &nbsp;&nbsp;&nbsp;&nbsp; b) Exercise #2 - Sorting with Last Name <br>\n",
    " &nbsp;&nbsp;&nbsp;&nbsp; c) Exercise #3 - Conversion to Farhenheit <br>\n",
    " &nbsp;&nbsp;&nbsp;&nbsp; d) Exercise #4 - Fibonacci Sequence <br>"
   ]
  },
  {
   "cell_type": "markdown",
   "metadata": {},
   "source": [
    "## Lambda Functions <br>\n",
    "<p>Lambda functions... or \"Anonymous Functions\" are referring to inline functions with no name. The keyword lambda denotes the no name function, and executes within a single line. Without saving it to a variable; however, it is not able to be used, unless passed in either as a paramater or within list comprehension.<br>Written as \"(keyword lambda) (one or more inputs) (colon) (function to be executed)\"</p>"
   ]
  },
  {
   "cell_type": "markdown",
   "metadata": {},
   "source": [
    "#### Syntax"
   ]
  },
  {
   "cell_type": "code",
   "execution_count": 4,
   "metadata": {},
   "outputs": [
    {
     "name": "stdout",
     "output_type": "stream",
     "text": [
      "6\n",
      "8\n",
      "10\n"
     ]
    }
   ],
   "source": [
    "def double(num):\n",
    "    return num * 2\n",
    "print(double(3))\n",
    "print(double(4))\n",
    "\n",
    "\n",
    "\n",
    "# syntax: keywordlambda variable(parameter): execution/transformation\n",
    "print((lambda num: num * 2)(5))\n",
    "\n",
    "# one-line execution is a must!    "
   ]
  },
  {
   "cell_type": "markdown",
   "metadata": {},
   "source": [
    "#### Saving to a Variable"
   ]
  },
  {
   "cell_type": "code",
   "execution_count": 5,
   "metadata": {},
   "outputs": [
    {
     "name": "stdout",
     "output_type": "stream",
     "text": [
      "<function <lambda> at 0x7ff1788e1000>\n",
      "120\n"
     ]
    }
   ],
   "source": [
    "lamb_test = lambda num: num * 2\n",
    "print(lamb_test)\n",
    "print(lamb_test(60))"
   ]
  },
  {
   "cell_type": "markdown",
   "metadata": {},
   "source": [
    "#### Multiple Inputs"
   ]
  },
  {
   "cell_type": "code",
   "execution_count": 7,
   "metadata": {},
   "outputs": [
    {
     "name": "stdout",
     "output_type": "stream",
     "text": [
      "1820\n",
      "18330\n"
     ]
    }
   ],
   "source": [
    "# AKA like destructuring in terms of how it looks.\n",
    "# is actually\n",
    "\n",
    "print((lambda a, b, c : a* b* c)(5, 14, 26))\n",
    "\n",
    "mult = lambda a, b, c : a* b* c\n",
    "print(mult(5, 141, 26))\n"
   ]
  },
  {
   "cell_type": "markdown",
   "metadata": {},
   "source": [
    "#### Passing a Lambda into a Function"
   ]
  },
  {
   "cell_type": "code",
   "execution_count": 11,
   "metadata": {},
   "outputs": [
    {
     "data": {
      "text/plain": [
       "437893890380859375"
      ]
     },
     "execution_count": 11,
     "metadata": {},
     "output_type": "execute_result"
    }
   ],
   "source": [
    "# this function will take in a function!\n",
    "def mult2(func, num):\n",
    "    return func(num)\n",
    "\n",
    "mult2(lambda x: x * x, 4)\n",
    "\n",
    "mult2(lambda x: x**x, 15)"
   ]
  },
  {
   "cell_type": "markdown",
   "metadata": {},
   "source": [
    "#### Returning a Lambda from a Function"
   ]
  },
  {
   "cell_type": "code",
   "execution_count": 25,
   "metadata": {},
   "outputs": [
    {
     "name": "stdout",
     "output_type": "stream",
     "text": [
      "<function returnFunc.<locals>.multiply at 0x7ff148772170>\n",
      "<function returnFunc.<locals>.multiply at 0x7ff1487736d0>\n",
      "<function clo_test.<locals>.<lambda> at 0x7ff148771750>\n",
      "<function clo_test.<locals>.<lambda> at 0x7ff1487725f0>\n",
      "['Brendan']\n",
      "<function return_of_lamb.<locals>.<lambda> at 0x7ff148770790>\n",
      "<class 'function'>\n",
      "154\n"
     ]
    }
   ],
   "source": [
    "# reg\n",
    "def mult_test(num):\n",
    "    return num * 5\n",
    "\n",
    "# function in a function\n",
    "def returnFunc():\n",
    "    def multiply(num):\n",
    "        return num * 2\n",
    "    return multiply\n",
    "\n",
    "ret_test = returnFunc()\n",
    "print(returnFunc())\n",
    "print(ret_test)\n",
    "\n",
    "\n",
    "def clo_test():\n",
    "    names = []\n",
    "    s = lambda name: names.append(name)\n",
    "    t = lambda z: print(names)\n",
    "    return s, t\n",
    "\n",
    "add_name, print_info = clo_test()\n",
    "print(add_name)\n",
    "print(print_info)\n",
    "add_name('Brendan')\n",
    "print_info('kjvkjhgdl')\n",
    "\n",
    "\n",
    "def return_of_lamb(x,y):\n",
    "    return lambda a, b : x + y + a + b\n",
    "ret_1 = return_of_lamb(78, 4)\n",
    "print(ret_1)\n",
    "print(type(ret_1))\n",
    "print(ret_1(8, 64))"
   ]
  },
  {
   "cell_type": "markdown",
   "metadata": {},
   "source": [
    "#### If Statements within Lambdas"
   ]
  },
  {
   "cell_type": "code",
   "execution_count": 26,
   "metadata": {},
   "outputs": [
    {
     "name": "stdout",
     "output_type": "stream",
     "text": [
      "25\n",
      "5\n",
      "10\n"
     ]
    }
   ],
   "source": [
    "# syntax\n",
    "# lambda x: True if else False\n",
    "\n",
    "cond_lamb = lambda num : num ** 2 if num < 10 else num -5\n",
    "\n",
    "print(cond_lamb(5))\n",
    "print(cond_lamb(10))\n",
    "print(cond_lamb(15))\n",
    "\n",
    "\n",
    "# just in case, doubt this is useful\n",
    "# lambda x : x * 10 if x> 56 else(x**2 if x > 100 else x + 98)"
   ]
  },
  {
   "cell_type": "markdown",
   "metadata": {},
   "source": [
    "#### In-Class Exercise #1 <br>\n",
    "<p>Write an anonymous function that cubes the arguments passed in and assign the anonymous function to a variable 'f'.</p>"
   ]
  },
  {
   "cell_type": "code",
   "execution_count": 30,
   "metadata": {},
   "outputs": [
    {
     "name": "stdout",
     "output_type": "stream",
     "text": [
      "27\n"
     ]
    }
   ],
   "source": [
    "def anonFunc():\n",
    "    f = lambda p : p ** 3 \n",
    "    return f\n",
    "\n",
    "\n",
    "f = lambda p : p ** 3 \n",
    "print(f(3))   \n"
   ]
  },
  {
   "cell_type": "markdown",
   "metadata": {},
   "source": [
    "## Map <br>\n",
    "<p>The map function allows you to iterate over an entire list while running a function on each item of the list. This is why the map function works well with lambda's, because it simplifies things and you write less lines of code.<br>The syntax for a map function is \"map(function to be used, list to be used)\"<br>However, you must be careful, as the map function returns a map object, not a list. To turn it into a list we use the list() type conversion.</p>"
   ]
  },
  {
   "cell_type": "markdown",
   "metadata": {},
   "source": [
    "#### Syntax"
   ]
  },
  {
   "cell_type": "code",
   "execution_count": 41,
   "metadata": {},
   "outputs": [
    {
     "name": "stdout",
     "output_type": "stream",
     "text": [
      "[5, 87, 21, 4, 56, 89, 1]\n",
      "5 25\n",
      "87 7569\n",
      "21 441\n",
      "4 16\n",
      "56 3136\n",
      "89 7921\n",
      "1 1\n",
      "[5, 87, 21, 4, 56, 89, 1]\n",
      "[625, 57289761, 194481, 256, 9834496, 62742241, 1]\n",
      "625\n",
      "57289761\n",
      "194481\n",
      "256\n",
      "9834496\n",
      "62742241\n",
      "1\n",
      "<map object at 0x7ff1380d8f40>\n"
     ]
    },
    {
     "data": {
      "text/plain": [
       "[16, 2916, 441, 1024, 9]"
      ]
     },
     "execution_count": 41,
     "metadata": {},
     "output_type": "execute_result"
    }
   ],
   "source": [
    "#  syntax --> map(function, iterable):\n",
    "\n",
    "nums = [5, 87, 21, 4, 56, 89, 1]\n",
    "nums2 = [4, 54, 21, 32, 3]\n",
    "\n",
    "def square(num):\n",
    "    return num * num\n",
    "print(nums)\n",
    "for n in nums:\n",
    "    print(n, square(n))\n",
    "    n = square(n)\n",
    "print(nums)\n",
    "\n",
    "for n in range(len(nums)):\n",
    "    nums[n]= square(nums[n])\n",
    "\n",
    "next_nums = [n * n for n in nums]\n",
    "print(next_nums)\n",
    "\n",
    "map(square, nums2)\n",
    "for m in map(square, nums):\n",
    "    print(m)\n",
    "\n",
    "print(map(square, nums2))\n",
    "list(map(square, nums2))"
   ]
  },
  {
   "cell_type": "markdown",
   "metadata": {},
   "source": [
    "#### Using Lambda's with Map"
   ]
  },
  {
   "cell_type": "code",
   "execution_count": 42,
   "metadata": {},
   "outputs": [
    {
     "data": {
      "text/plain": [
       "[16, 2916, 441, 1024, 9]"
      ]
     },
     "execution_count": 42,
     "metadata": {},
     "output_type": "execute_result"
    }
   ],
   "source": [
    "list(map(lambda x: x ** 2, nums2))"
   ]
  },
  {
   "cell_type": "code",
   "execution_count": null,
   "metadata": {},
   "outputs": [],
   "source": [
    "# lambda is saying hey, don't follow your normal indentation rules do this"
   ]
  },
  {
   "cell_type": "markdown",
   "metadata": {},
   "source": [
    "#### In-Class Exercise #2 <br>\n",
    "<p>Use the map function to double each number and minus it by one in the list by using a lambda function</p>"
   ]
  },
  {
   "cell_type": "code",
   "execution_count": 43,
   "metadata": {},
   "outputs": [
    {
     "data": {
      "text/plain": [
       "[5, 13, 15, 17, 11]"
      ]
     },
     "execution_count": 43,
     "metadata": {},
     "output_type": "execute_result"
    }
   ],
   "source": [
    "nums = [3,7,8,9,6]\n",
    "\n",
    "list(map(lambda x: x * 2 - 1, nums))\n",
    "    "
   ]
  },
  {
   "cell_type": "markdown",
   "metadata": {},
   "source": [
    "## Filter() <br>\n",
    "<p>Filter's are similar to the map function, where you're able to pass a function argument and a list argument and filter out something from the list based on the conditions passed. Similar to the map function, it returns a filter object, so you need to type convert it to a list()</p>"
   ]
  },
  {
   "cell_type": "markdown",
   "metadata": {},
   "source": [
    "#### Syntax"
   ]
  },
  {
   "cell_type": "code",
   "execution_count": 49,
   "metadata": {},
   "outputs": [
    {
     "name": "stdout",
     "output_type": "stream",
     "text": [
      "[2, 56, 1112, 24, 68]\n"
     ]
    },
    {
     "data": {
      "text/plain": [
       "['Adele', 'Ava']"
      ]
     },
     "execution_count": 49,
     "metadata": {},
     "output_type": "execute_result"
    }
   ],
   "source": [
    "#  synatx --> same as map!\n",
    "# filter(function, iterable)\n",
    "\n",
    "nums3 = [87, 21, 2, 56, 1112, 24, 68]\n",
    "\n",
    "def filter_odds(num):\n",
    "    if num % 2 == 0:\n",
    "        return True\n",
    "    return False\n",
    "\n",
    "print(list(filter(filter_odds, nums3)))\n",
    "\n",
    "#  string\n",
    "\n",
    "name_list = ['Adele', 'Bill', 'Carter', 'Ava', 'Bob']\n",
    "\n",
    "def aName(name):\n",
    "    if name[0].lower() == 'a':\n",
    "        return True\n",
    "    return False\n",
    "\n",
    "list(filter(aName, name_list))\n",
    "\n",
    "        \n"
   ]
  },
  {
   "cell_type": "markdown",
   "metadata": {},
   "source": [
    "#### Using Lambda's with Filter()"
   ]
  },
  {
   "cell_type": "code",
   "execution_count": 52,
   "metadata": {},
   "outputs": [
    {
     "data": {
      "text/plain": [
       "['Adele', 'Ava']"
      ]
     },
     "execution_count": 52,
     "metadata": {},
     "output_type": "execute_result"
    }
   ],
   "source": [
    "list(filter(lambda name: name[0].lower() == 'a', name_list))"
   ]
  },
  {
   "cell_type": "markdown",
   "metadata": {},
   "source": [
    "#### In-Class Exercise #3 <br>\n",
    "<p>Filter out all the numbers that are below the mean of the list.<br><b>Hint: Import the 'statistics' module</b></p>"
   ]
  },
  {
   "cell_type": "code",
   "execution_count": 53,
   "metadata": {},
   "outputs": [
    {
     "name": "stdout",
     "output_type": "stream",
     "text": [
      "195.71428571428572\n"
     ]
    },
    {
     "data": {
      "text/plain": [
       "[87, 21, 2, 56, 24, 68]"
      ]
     },
     "execution_count": 53,
     "metadata": {},
     "output_type": "execute_result"
    }
   ],
   "source": [
    "from statistics import mean\n",
    "\n",
    "nums3 = [87, 21, 2, 56, 1112, 24, 68]\n",
    "\n",
    "print(mean(nums3))\n",
    "\n",
    "average = mean(nums3)\n",
    "\n",
    "def av(num):\n",
    "    if num < average:\n",
    "        return True\n",
    "    return False\n",
    "list(filter(av, nums3))\n",
    "\n",
    "# cond_lamb = lambda num : num "
   ]
  },
  {
   "cell_type": "markdown",
   "metadata": {},
   "source": [
    "## Reduce() <br>\n",
    "<p>Be very careful when using this function, as of Python 3 it's been moved to the 'functools' library and no longer is a built-in function.<br>The creator of Python himself, says to just use a for loop instead.</p>"
   ]
  },
  {
   "cell_type": "markdown",
   "metadata": {},
   "source": [
    "#### Syntax"
   ]
  },
  {
   "cell_type": "code",
   "execution_count": 56,
   "metadata": {},
   "outputs": [
    {
     "name": "stdout",
     "output_type": "stream",
     "text": [
      "1370\n",
      "[87, 21, 2, 56, 1112, 24, 68]\n",
      "1168\n"
     ]
    }
   ],
   "source": [
    "from functools import reduce \n",
    "\n",
    "# reduce(func, iterable)\n",
    "\n",
    "# reduce was intended to aggregate all items in a list like min() max() sum()\n",
    "#  soooo, the function has to take two parameters and turn them into one\n",
    "\n",
    "def add_up(num, num1):\n",
    "    return num + num1\n",
    "add_result = reduce(add_up, nums3)\n",
    "print(add_result)\n",
    "\n",
    "def subs(num, num1):\n",
    "    return num1- num\n",
    "sub_result = reduce(subs, nums3)\n",
    "print(nums3)\n",
    "print(sub_result)\n"
   ]
  },
  {
   "cell_type": "markdown",
   "metadata": {},
   "source": [
    "#### Using Lambda's with Reduce()"
   ]
  },
  {
   "cell_type": "code",
   "execution_count": 58,
   "metadata": {},
   "outputs": [
    {
     "name": "stdout",
     "output_type": "stream",
     "text": [
      "1370\n"
     ]
    }
   ],
   "source": [
    "lamb_res = reduce(lambda x, y: x + y, nums3)\n",
    "print(lamb_res)"
   ]
  },
  {
   "cell_type": "markdown",
   "metadata": {},
   "source": [
    "#### In-Class Exercise #4 <br>\n",
    "<p>Use the reduce function to multiply the numbers in the list below together with a lambda function.</p>"
   ]
  },
  {
   "cell_type": "code",
   "execution_count": null,
   "metadata": {},
   "outputs": [],
   "source": [
    "# skip"
   ]
  },
  {
   "cell_type": "markdown",
   "metadata": {},
   "source": [
    "## Recursion <br>\n",
    "<p>Recursion means that a function is calling itself, so it contanstly executes until a base case is reached. It will then push the returning values back up the chain until the function is complete. A prime example of recursion is computing factorials... such that 5! (factorial) is 5*4*3*2*1 which equals 120.</p>"
   ]
  },
  {
   "cell_type": "markdown",
   "metadata": {},
   "source": [
    "#### Implementing a Base Case"
   ]
  },
  {
   "cell_type": "code",
   "execution_count": 59,
   "metadata": {},
   "outputs": [
    {
     "name": "stdout",
     "output_type": "stream",
     "text": [
      "addNums(1) = 1 + addNums(2)\n",
      "addNums(2) = 2 + addNums(3)\n",
      "addNums(3) = 3 + addNums(4)\n",
      "addNums(4) = 4 + addNums(5)\n",
      "addNums(5) = 5 + addNums(6)\n",
      "addNums(6) = 6 + addNums(7)\n",
      "addNums(7) = 7 + addNums(8)\n",
      "addNums(8) = 8 + addNums(9)\n",
      "addNums(9) = 9 + addNums(10)\n",
      "addNums(10) = 10\n"
     ]
    },
    {
     "data": {
      "text/plain": [
       "55"
      ]
     },
     "execution_count": 59,
     "metadata": {},
     "output_type": "execute_result"
    }
   ],
   "source": [
    "# def addNums(num):\n",
    "#     return num + addNums(num + 1)\n",
    "# be careful to increment or decrement- a call here would be an infinite loop!\n",
    "\n",
    "def addNums(num):\n",
    "    if num >= 10:\n",
    "        print('addNums(10) = 10')\n",
    "        return num\n",
    "    \n",
    "    else:\n",
    "        print(f\"addNums({num}) = {num} + addNums({num +1})\")\n",
    "        return num + addNums(num + 1)\n",
    "addNums(1)"
   ]
  },
  {
   "cell_type": "markdown",
   "metadata": {},
   "source": [
    "#### Writing a Factorial Function"
   ]
  },
  {
   "cell_type": "code",
   "execution_count": 64,
   "metadata": {},
   "outputs": [
    {
     "name": "stdout",
     "output_type": "stream",
     "text": [
      "1 5\n",
      "5 4\n",
      "20 3\n",
      "60 2\n",
      "120 1\n",
      "120\n",
      "5\n",
      "4\n",
      "3\n",
      "2\n",
      "reached base case\n",
      "120\n"
     ]
    }
   ],
   "source": [
    "# while loop version first\n",
    "\n",
    "def factor(num):\n",
    "    count = 1\n",
    "    while num >= 1:\n",
    "        print(count, num)\n",
    "        count = num * count\n",
    "        num -= 1\n",
    "    return count\n",
    "print(factor(5))\n",
    "\n",
    "\n",
    "\n",
    "\n",
    "\n",
    "def factor2(num):\n",
    "    if num <= 1:\n",
    "        print('reached base case')\n",
    "        return 1\n",
    "    else:\n",
    "        print(num)\n",
    "        return num * factor2(num -1)\n",
    "print(factor2(5))\n",
    "    "
   ]
  },
  {
   "cell_type": "markdown",
   "metadata": {},
   "source": [
    "#### In-Class Exercise #5 <br>\n",
    "<p>Write a recursive function that subtracts all numbers to the argument given.</p>"
   ]
  },
  {
   "cell_type": "code",
   "execution_count": 78,
   "metadata": {},
   "outputs": [
    {
     "name": "stdout",
     "output_type": "stream",
     "text": [
      "subNums(5) = 5 - subNums(4)\n",
      "subNums(4) = 4 - subNums(3)\n",
      "subNums(3) = 3 - subNums(2)\n",
      "subNums(2) = 2 - subNums(1)\n",
      "subNums(1) = 1\n"
     ]
    },
    {
     "data": {
      "text/plain": [
       "3"
      ]
     },
     "execution_count": 78,
     "metadata": {},
     "output_type": "execute_result"
    }
   ],
   "source": [
    "def subNums(num):\n",
    "    if num <= 1:\n",
    "        print('subNums(1) = 1')\n",
    "        return num\n",
    "    \n",
    "    else:\n",
    "        print(f\"subNums({num}) = {num} - subNums({num - 1})\")\n",
    "        return num - subNums(num - 1)\n",
    "subNums(5)"
   ]
  },
  {
   "cell_type": "markdown",
   "metadata": {},
   "source": [
    "## Generators <br>\n",
    "<p>Generators are a type of iterable, like lists or tuples. They do not allow indexing, but they can still be iterated through with for loops. They are created using functions and the yield statement.</p>"
   ]
  },
  {
   "cell_type": "markdown",
   "metadata": {},
   "source": [
    "#### Yield Keyword <br>\n",
    "<p>The yield keyword denotes a generator, it doesn't return so it won't leave the function and reset all variables in the function scope, instead it yields the number back to the caller.</p>"
   ]
  },
  {
   "cell_type": "code",
   "execution_count": 83,
   "metadata": {},
   "outputs": [
    {
     "name": "stdout",
     "output_type": "stream",
     "text": [
      "range(1, 11)\n",
      "<class 'range'>\n",
      "[1, 2, 3, 4, 5, 6, 7, 8, 9, 10]\n",
      "3\n"
     ]
    }
   ],
   "source": [
    "# yield is kinda like return, but keep returning....\n",
    "\n",
    "range(1, 11)\n",
    "print(range(1,11))\n",
    "print(type(range(1,11)))\n",
    "print(list(range(1,11)))\n",
    "\n",
    "# indexing example\n",
    "print(range(1,11)[2])\n",
    "\n",
    "#  the only data stored for a generatorn is the formula to run when it's called on\n",
    "\n"
   ]
  },
  {
   "cell_type": "code",
   "execution_count": 84,
   "metadata": {},
   "outputs": [
    {
     "name": "stdout",
     "output_type": "stream",
     "text": [
      "<generator object my_range at 0x7ff178d10ba0>\n",
      "0\n",
      "2\n",
      "4\n",
      "6\n",
      "8\n"
     ]
    }
   ],
   "source": [
    "def my_range(start,stop,step):\n",
    "    while start < stop:\n",
    "        yield start\n",
    "        start += step\n",
    "        \n",
    "print(my_range(0,10,2))\n",
    "\n",
    "for x in my_range(0, 10, 2):\n",
    "    print(x)"
   ]
  },
  {
   "cell_type": "markdown",
   "metadata": {},
   "source": [
    "#### Infinite Generator"
   ]
  },
  {
   "cell_type": "code",
   "execution_count": null,
   "metadata": {},
   "outputs": [],
   "source": [
    "# bad, never create infinite loops\n"
   ]
  },
  {
   "cell_type": "markdown",
   "metadata": {},
   "source": [
    "#### In-Class Exercise #6 <br>\n",
    "<p>Create a generator that takes a number argument and yields that number squared, then prints each number squared until zero is reached.</p>"
   ]
  },
  {
   "cell_type": "code",
   "execution_count": 89,
   "metadata": {},
   "outputs": [
    {
     "name": "stdout",
     "output_type": "stream",
     "text": [
      "100\n",
      "81\n",
      "64\n",
      "49\n",
      "36\n",
      "25\n",
      "16\n",
      "9\n",
      "4\n",
      "1\n",
      "0\n"
     ]
    }
   ],
   "source": [
    "def squares(num):\n",
    "    while num >= 0:\n",
    "        yield num ** 2\n",
    "        num -= 1\n",
    "        \n",
    "for square in squares(10):\n",
    "    print(square)\n",
    "    "
   ]
  },
  {
   "cell_type": "markdown",
   "metadata": {},
   "source": [
    "# Exercises"
   ]
  },
  {
   "cell_type": "markdown",
   "metadata": {},
   "source": [
    "### Exercise #1 <br>\n",
    "<p>Filter out all of the empty strings from the list below</p>\n",
    "\n",
    "`Output: ['Argentina', 'San Diego', 'Boston', 'New York']`"
   ]
  },
  {
   "cell_type": "code",
   "execution_count": 102,
   "metadata": {},
   "outputs": [
    {
     "name": "stdout",
     "output_type": "stream",
     "text": [
      "['Argentina', 'San Diego', 'Boston', 'New York']\n"
     ]
    }
   ],
   "source": [
    "\n",
    "def filter_Space(places):\n",
    "    if places == \" \" or places == \"\" or places == \"  \":\n",
    "        return False\n",
    "    return True\n",
    "\n",
    "places = [\" \",\"Argentina\", \" \", \"San Diego\",\"\",\"  \",\"\",\"Boston\",\"New York\"]\n",
    "print(list(filter(filter_Space, places)))\n",
    "\n",
    "#\"!!!!!!!\" Me screaming with joy as I figured this one out...\n",
    "\n",
    "\n",
    "\n"
   ]
  },
  {
   "cell_type": "markdown",
   "metadata": {},
   "source": [
    "### Exercise #2 <br>\n",
    "<p>Write an anonymous function that sorts this list by the last name...<br><b>Hint: Use the \".sort()\" method and access the key\"</b></p>\n",
    "\n",
    "`Output: ['Victor aNisimov', 'Gary A.J. Bernstein', 'Joel Carter', 'Andrew P. Garfield', 'David hassELHOFF']`"
   ]
  },
  {
   "cell_type": "code",
   "execution_count": 25,
   "metadata": {
    "scrolled": true
   },
   "outputs": [
    {
     "name": "stdout",
     "output_type": "stream",
     "text": [
      "['Victor aNisimov', 'Gary A.J. Bernstein', 'Joel Carter', 'Andrew P. Garfield', 'David hassELHOFF']\n"
     ]
    }
   ],
   "source": [
    "\n",
    "def anon_Func(author):\n",
    "    author.sort(key=lambda k: k.split()[-1].lower())\n",
    "    \n",
    "    return author\n",
    "\n",
    "author = [\"Joel Carter\", \"Victor aNisimov\", \"Andrew P. Garfield\",\"David hassELHOFF\",\"Gary A.J. Bernstein\"]          \n",
    "\n",
    "print(anon_Func(author))\n",
    "\n",
    "#This took an unearthly amount of time \n",
    "   \n",
    "\n",
    "\n",
    "\n",
    "\n",
    "    "
   ]
  },
  {
   "cell_type": "markdown",
   "metadata": {},
   "source": [
    "### Exercise #3 <br>\n",
    "<p>Convert the list below from Celsius to Farhenheit, using the map function with a lambda...</p>\n",
    "\n",
    "`Output: [('Nashua', 89.6), ('Boston', 53.6), ('Los Angelos', 111.2), ('Miami', 84.2)]\n",
    "`"
   ]
  },
  {
   "cell_type": "code",
   "execution_count": 42,
   "metadata": {},
   "outputs": [
    {
     "name": "stdout",
     "output_type": "stream",
     "text": [
      "[('Nashua', 89.6), ('Boston', 53.6), ('Los Angelos', 111.2), ('Miami', 84.2)]\n"
     ]
    }
   ],
   "source": [
    "# F = (9/5)*C + 32\n",
    "places = [('Nashua',32),(\"Boston\",12),(\"Los Angelos\",44),(\"Miami\",29)]\n",
    "conv_temp = list(map(lambda c: (c[0], (9/5) * c[1]+ 32), places))\n",
    "\n",
    "\n",
    "print(conv_temp)\n",
    "\n",
    "\n",
    "\n"
   ]
  },
  {
   "cell_type": "markdown",
   "metadata": {},
   "source": [
    "### Exercise #4 <br>\n",
    "<p>Write a recursion function to perform the fibonacci sequence up to the number passed in.</p>\n",
    "\n",
    "`Output for fib(5) => \n",
    "Iteration 0: 1\n",
    "Iteration 1: 1\n",
    "Iteration 2: 2\n",
    "Iteration 3: 3\n",
    "Iteration 4: 5\n",
    "Iteration 5: 8`"
   ]
  },
  {
   "cell_type": "code",
   "execution_count": 95,
   "metadata": {
    "scrolled": true
   },
   "outputs": [
    {
     "name": "stdout",
     "output_type": "stream",
     "text": [
      "fib(0):5\n",
      "0\n",
      "fib(0):5\n",
      "1\n",
      "fib(0):5\n",
      "2\n",
      "fib(0):5\n",
      "3\n",
      "fib(0):5\n",
      "4\n"
     ]
    }
   ],
   "source": [
    "def fib(num):\n",
    "    if num <= 5:\n",
    "        print('fib(0):5')\n",
    "        return num\n",
    "    else:\n",
    "        print(fib(num-1)+fib(num-2))\n",
    "\n",
    "for n in range(5):\n",
    "    print(fib(n))\n",
    "\n",
    "\n",
    "#I am lost....this is what I've got.\n",
    "        \n",
    "      \n",
    "        \n",
    "    \n",
    "\n"
   ]
  },
  {
   "cell_type": "code",
   "execution_count": null,
   "metadata": {},
   "outputs": [],
   "source": []
  }
 ],
 "metadata": {
  "kernelspec": {
   "display_name": "Python 3 (ipykernel)",
   "language": "python",
   "name": "python3"
  },
  "language_info": {
   "codemirror_mode": {
    "name": "ipython",
    "version": 3
   },
   "file_extension": ".py",
   "mimetype": "text/x-python",
   "name": "python",
   "nbconvert_exporter": "python",
   "pygments_lexer": "ipython3",
   "version": "3.10.9"
  }
 },
 "nbformat": 4,
 "nbformat_minor": 2
}
