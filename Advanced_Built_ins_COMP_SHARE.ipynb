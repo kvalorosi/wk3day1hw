{
 "cells": [
  {
   "cell_type": "markdown",
   "metadata": {},
   "source": [
    "# Map, Filter, Reduce, Lambda & Recursion"
   ]
  },
  {
   "cell_type": "markdown",
   "metadata": {},
   "source": [
    "## Tasks Today:\n",
    "\n",
    "1) <b>Lambda Functions</b> <br>\n",
    " &nbsp;&nbsp;&nbsp;&nbsp; a) Syntax <br>\n",
    " &nbsp;&nbsp;&nbsp;&nbsp; b) Saving to a Variable <br>\n",
    " &nbsp;&nbsp;&nbsp;&nbsp; c) Multiple Inputs <br>\n",
    " &nbsp;&nbsp;&nbsp;&nbsp; d) Passing a Lambda into a Function <br>\n",
    " &nbsp;&nbsp;&nbsp;&nbsp; e) Returning a Lambda from a Function <br>\n",
    " &nbsp;&nbsp;&nbsp;&nbsp; f) In-Class Exercise #1 <br>\n",
    "2) <b>Map</b> <br>\n",
    " &nbsp;&nbsp;&nbsp;&nbsp; a) Syntax <br>\n",
    " &nbsp;&nbsp;&nbsp;&nbsp; b) Using Lambda's with Map <br>\n",
    " &nbsp;&nbsp;&nbsp;&nbsp; c) In-Class Exercise #2 <br>\n",
    "3) <b>Filter</b> <br>\n",
    " &nbsp;&nbsp;&nbsp;&nbsp; a) Syntax <br>\n",
    " &nbsp;&nbsp;&nbsp;&nbsp; b) Using Lambda's with Filter <br>\n",
    " &nbsp;&nbsp;&nbsp;&nbsp; c) In-Class Exercise #3 <br>\n",
    "4) <b>Reduce</b> <br>\n",
    " &nbsp;&nbsp;&nbsp;&nbsp; a) Syntax <br>\n",
    " &nbsp;&nbsp;&nbsp;&nbsp; b) Using Lambda's with Reduce <br>\n",
    " &nbsp;&nbsp;&nbsp;&nbsp; c) In-Class Exercise #4 <br>\n",
    "5) <b>Recursion</b> <br>\n",
    " &nbsp;&nbsp;&nbsp;&nbsp; a) Implementing a Base <br>\n",
    " &nbsp;&nbsp;&nbsp;&nbsp; b) Writing a Factorial Function <br>\n",
    " &nbsp;&nbsp;&nbsp;&nbsp; c) In-Class Exercise #5 <br>\n",
    "6) <b>Generators & Iterators</b> <br>\n",
    " &nbsp;&nbsp;&nbsp;&nbsp; a) Yield Keyword <br>\n",
    " &nbsp;&nbsp;&nbsp;&nbsp; b) Inifinite Generator <br>\n",
    " &nbsp;&nbsp;&nbsp;&nbsp; c) In-Class Exercise #6 <br>\n",
    "7) <b>Exercises</b> <br>\n",
    " &nbsp;&nbsp;&nbsp;&nbsp; a) Exercise #1 - Filtering Empty Strings <br>\n",
    " &nbsp;&nbsp;&nbsp;&nbsp; b) Exercise #2 - Sorting with Last Name <br>\n",
    " &nbsp;&nbsp;&nbsp;&nbsp; c) Exercise #3 - Conversion to Farhenheit <br>\n",
    " &nbsp;&nbsp;&nbsp;&nbsp; d) Exercise #4 - Fibonacci Sequence <br>"
   ]
  },
  {
   "cell_type": "markdown",
   "metadata": {},
   "source": [
    "## Lambda Functions <br>\n",
    "<p>Lambda functions... or \"Anonymous Functions\" are referring to inline functions with no name. The keyword lambda denotes the no name function, and executes within a single line. Without saving it to a variable; however, it is not able to be used, unless passed in either as a paramater or within list comprehension.<br>Written as \"(keyword lambda) (one or more inputs) (colon) (function to be executed)\"</p>"
   ]
  },
  {
   "cell_type": "markdown",
   "metadata": {},
   "source": [
    "#### Syntax"
   ]
  },
  {
   "cell_type": "code",
   "execution_count": 2,
   "metadata": {},
   "outputs": [
    {
     "name": "stdout",
     "output_type": "stream",
     "text": [
      "6\n",
      "6\n"
     ]
    }
   ],
   "source": [
    "def addTwo(x):\n",
    "    return x + 2\n",
    "\n",
    "print(addTwo(4))\n",
    "\n",
    "\n",
    "# Lambda Function Syntax\n",
    "# Example of calling a lambda function without a variable\n",
    "print((lambda x: x + 2)(4))\n",
    "\n",
    "#Single line execution- must be a one-liner.  Way more restrictive than a general function definition"
   ]
  },
  {
   "cell_type": "markdown",
   "metadata": {},
   "source": [
    "#### Saving to a Variable"
   ]
  },
  {
   "cell_type": "code",
   "execution_count": 3,
   "metadata": {},
   "outputs": [
    {
     "data": {
      "text/plain": [
       "6"
      ]
     },
     "execution_count": 3,
     "metadata": {},
     "output_type": "execute_result"
    }
   ],
   "source": [
    "f_test = lambda x: x + 2\n",
    "\n",
    "f_test(4)"
   ]
  },
  {
   "cell_type": "markdown",
   "metadata": {},
   "source": [
    "#### Multiple Inputs"
   ]
  },
  {
   "cell_type": "code",
   "execution_count": 5,
   "metadata": {},
   "outputs": [
    {
     "name": "stdout",
     "output_type": "stream",
     "text": [
      "120\n",
      "120\n"
     ]
    }
   ],
   "source": [
    "# Multiple Inputs with no variable\n",
    "# format ==> lambda parameters: return-line\n",
    "\n",
    "print((lambda x,y,z: x * y * z)(3,5,8)) # can run w/o parameters to show error\n",
    "\n",
    "# Multiple Inputs with a variable attached\n",
    "x_test = lambda x,y,z: x * y * z\n",
    "print(x_test(3,5,8))"
   ]
  },
  {
   "cell_type": "markdown",
   "metadata": {},
   "source": [
    "#### Passing a Lambda into a Function"
   ]
  },
  {
   "cell_type": "code",
   "execution_count": 1,
   "metadata": {},
   "outputs": [
    {
     "data": {
      "text/plain": [
       "44"
      ]
     },
     "execution_count": 1,
     "metadata": {},
     "output_type": "execute_result"
    }
   ],
   "source": [
    "# we're setting this func up to accept a function!\n",
    "def multiply(f,num):\n",
    "    \"\"\"\n",
    "        f expects a lambda function\n",
    "        num expects a number\n",
    "    \"\"\"\n",
    "    return f(num)\n",
    "\n",
    "\n",
    "multiply(lambda x: x * x, 4) # lambda 4: 4 * 4\n",
    "\n",
    "#we can change this for each execution!!!\n",
    "multiply(lambda x : x + 10, 34)"
   ]
  },
  {
   "cell_type": "markdown",
   "metadata": {},
   "source": [
    "#### Returning a Lambda from a Function"
   ]
  },
  {
   "cell_type": "code",
   "execution_count": 6,
   "metadata": {},
   "outputs": [
    {
     "name": "stdout",
     "output_type": "stream",
     "text": [
      "<function returnFunc.<locals>.multiply at 0x000001E2E9BDFB80>\n",
      "8\n",
      "['Brendan', 'Brandt', 'Rachel']\n",
      "<function returnLam.<locals>.<lambda> at 0x000001E2E9C350D0>\n",
      "<class 'function'>\n",
      "19\n"
     ]
    }
   ],
   "source": [
    "\n",
    "\n",
    "# Regular defined function\n",
    "def multiply_test(num):\n",
    "    return num * 4\n",
    "\n",
    "# Function within a function\n",
    "def returnFunc():\n",
    "    def multiply(num):\n",
    "        return num * 2\n",
    "    return multiply\n",
    "\n",
    "f_return = returnFunc()\n",
    "print(returnFunc())\n",
    "print(f_return(4))\n",
    "\n",
    "\n",
    "# BIG EXAMPLE of closure!\n",
    "def test():\n",
    "    names = [] #discuss scope, access here\n",
    "    s = lambda name: names.append(name)\n",
    "#     first iteration with x, need arguments with this one\n",
    "    t = lambda x: print(names)\n",
    "#     second iteration without x\n",
    "    return s, t\n",
    "\n",
    "# destructuring here as we have to values:\n",
    "addNames, printInfo = test()\n",
    "addNames('Brendan')\n",
    "addNames('Brandt')\n",
    "addNames('Rachel')\n",
    "printInfo('234') # if arguments needed here we can put in whatever\n",
    "printInfo() #no arguments example\n",
    "\n",
    "#closure, try to print private/aka protected variable for example\n",
    "    \n",
    "\n",
    "# final example:\n",
    "# Lambda function returned from a regular function\n",
    "def returnLam(b,c):\n",
    "    return lambda x,a: x + a + b + c\n",
    "r_lamb = returnLam(4,5)\n",
    "print(r_lamb)\n",
    "print(type(r_lamb))\n",
    "print(r_lamb(5,5))"
   ]
  },
  {
   "cell_type": "markdown",
   "metadata": {},
   "source": [
    "#### If Statements within Lambdas"
   ]
  },
  {
   "cell_type": "code",
   "execution_count": 22,
   "metadata": {},
   "outputs": [
    {
     "name": "stdout",
     "output_type": "stream",
     "text": [
      "10\n",
      "24\n",
      "12\n"
     ]
    }
   ],
   "source": [
    "# Lambda x : True if (condition) else False\n",
    "\n",
    "f_condition = lambda num : num * 2 if num > 10 else num + 2\n",
    "\n",
    "print(f_condition(8))\n",
    "\n",
    "print(f_condition(12))\n",
    "\n",
    "print(f_condition(10))\n",
    "\n",
    "#In case someone asks about elif. . . nesting in the else can work\n",
    "# lambda x: x*10 if x<2 else (x**2 if x<4 else x+10)"
   ]
  },
  {
   "cell_type": "markdown",
   "metadata": {},
   "source": [
    "#### In-Class Exercise #1 <br>\n",
    "<p>Write an anonymous function that cubes the arguments passed in and assign the anonymous function to a variable 'f'.</p>"
   ]
  },
  {
   "cell_type": "code",
   "execution_count": null,
   "metadata": {},
   "outputs": [],
   "source": []
  },
  {
   "cell_type": "markdown",
   "metadata": {},
   "source": [
    "## Map <br>\n",
    "<p>The map function allows you to iterate over an entire list while running a function on each item of the list. This is why the map function works well with lambda's, because it simplifies things and you write less lines of code.<br>The syntax for a map function is \"map(function to be used, list to be used)\"<br>However, you must be careful, as the map function returns a map object, not a list. To turn it into a list we use the list() type conversion.</p>"
   ]
  },
  {
   "cell_type": "markdown",
   "metadata": {},
   "source": [
    "#### Syntax"
   ]
  },
  {
   "cell_type": "code",
   "execution_count": 17,
   "metadata": {},
   "outputs": [
    {
     "name": "stdout",
     "output_type": "stream",
     "text": [
      "[4, 11, 20, 3, 15, 20]\n",
      "[16, 121, 400, 9, 225, 400]\n",
      "4\n",
      "16\n",
      "36\n",
      "64\n",
      "100\n"
     ]
    },
    {
     "data": {
      "text/plain": [
       "[4, 16, 36, 64, 100]"
      ]
     },
     "execution_count": 17,
     "metadata": {},
     "output_type": "execute_result"
    }
   ],
   "source": [
    "# map(func,iterable(list,dict,tuple,set))\n",
    "# Normally the usage of map happens with a pre-defined function -- but we can use lambdas as well\n",
    "# let's start with a list and square all the nums\n",
    "numbers = [4,11,20,3,15,20]\n",
    "other_nums = [2, 4, 6, 8, 10]\n",
    "# defining a func\n",
    "def squared(num):\n",
    "    return num ** 2\n",
    "# loops through list and applies func\n",
    "for n in numbers:\n",
    "    n = squared(n)\n",
    "print(numbers)\n",
    "    \n",
    "# with a list comp\n",
    "next_nums = [n**2 for n in numbers]\n",
    "print(next_nums)\n",
    "\n",
    "\n",
    "# Finally with the map function:\n",
    "# first with the pre-defined func\n",
    "map(squared, other_nums) #shows the map object\n",
    "for m in map(squared, other_nums): #another bit to show that we could and what the map object is\n",
    "    print(m)\n",
    "list(map(squared, other_nums)) #our normal use case\n"
   ]
  },
  {
   "cell_type": "markdown",
   "metadata": {},
   "source": [
    "#### Using Lambda's with Map"
   ]
  },
  {
   "cell_type": "code",
   "execution_count": 11,
   "metadata": {},
   "outputs": [
    {
     "data": {
      "text/plain": [
       "[4, 16, 36, 64, 100]"
      ]
     },
     "execution_count": 11,
     "metadata": {},
     "output_type": "execute_result"
    }
   ],
   "source": [
    "list(map(lambda x: x**2, other_nums))\n",
    "\n",
    "#nice compact version of all the other things we've been showing with this one!\n"
   ]
  },
  {
   "cell_type": "markdown",
   "metadata": {},
   "source": [
    "#### In-Class Exercise #2 <br>\n",
    "<p>Use the map function to double each number and minus it by one in the list by using a lambda function</p>"
   ]
  },
  {
   "cell_type": "code",
   "execution_count": 1,
   "metadata": {},
   "outputs": [],
   "source": [
    "# "
   ]
  },
  {
   "cell_type": "markdown",
   "metadata": {},
   "source": [
    "## Filter() <br>\n",
    "<p>Filter's are similar to the map function, where you're able to pass a function argument and a list argument and filter out something from the list based on the conditions passed. Similar to the map function, it returns a filter object, so you need to type convert it to a list()</p>"
   ]
  },
  {
   "cell_type": "markdown",
   "metadata": {},
   "source": [
    "#### Syntax"
   ]
  },
  {
   "cell_type": "code",
   "execution_count": 18,
   "metadata": {},
   "outputs": [
    {
     "name": "stdout",
     "output_type": "stream",
     "text": [
      "[2, 4, 6, 8, 10]\n"
     ]
    },
    {
     "data": {
      "text/plain": [
       "['Andy', 'Angelica']"
      ]
     },
     "execution_count": 18,
     "metadata": {},
     "output_type": "execute_result"
    }
   ],
   "source": [
    "# syntax-->   filter(func, iterable)\n",
    "\n",
    "som_nums = [1, 2, 3, 4, 5]\n",
    "def filtOdds(num):\n",
    "    if num % 2 == 0: #after example, let's turn this to return num%2==0 to show it\n",
    "        return True\n",
    "    return False\n",
    "print(list(filter(filtOdds, other_nums)))\n",
    "\n",
    "# Another example with strings:\n",
    "\n",
    "names = ['Bob','Andy','Max','Evan','Angelica']\n",
    "\n",
    "def a_names(name):\n",
    "    if name[0].lower() == 'a':\n",
    "        return True\n",
    "    else:\n",
    "        return False\n",
    "    # re-factor to one-line return\n",
    "list(filter(a_names, names))\n",
    "\n",
    "\n"
   ]
  },
  {
   "cell_type": "markdown",
   "metadata": {},
   "source": [
    "#### Using Lambda's with Filter()"
   ]
  },
  {
   "cell_type": "code",
   "execution_count": 19,
   "metadata": {},
   "outputs": [
    {
     "name": "stdout",
     "output_type": "stream",
     "text": [
      "['Andy', 'Angelica']\n"
     ]
    }
   ],
   "source": [
    "saved_filter = list(filter(lambda name: name[0].lower() == 'a', names))\n",
    "print(saved_filter)"
   ]
  },
  {
   "cell_type": "markdown",
   "metadata": {},
   "source": [
    "#### In-Class Exercise #3 <br>\n",
    "<p>Filter out all the numbers that are below the mean of the list.<br><b>Hint: Import the 'statistics' module</b></p>"
   ]
  },
  {
   "cell_type": "code",
   "execution_count": 2,
   "metadata": {},
   "outputs": [],
   "source": [
    "from statistics import mean\n",
    "\n"
   ]
  },
  {
   "cell_type": "markdown",
   "metadata": {},
   "source": [
    "## Reduce() <br>\n",
    "<p>Be very careful when using this function, as of Python 3 it's been moved to the 'functools' library and no longer is a built-in function.<br>The creator of Python himself, says to just use a for loop instead.</p>"
   ]
  },
  {
   "cell_type": "markdown",
   "metadata": {},
   "source": [
    "#### Syntax"
   ]
  },
  {
   "cell_type": "code",
   "execution_count": 67,
   "metadata": {},
   "outputs": [
    {
     "name": "stdout",
     "output_type": "stream",
     "text": [
      "30\n",
      "-26\n"
     ]
    }
   ],
   "source": [
    "from functools import reduce\n",
    "\n",
    "# reduce(function,iterable)\n",
    "# The whole point of reduce is to aggregate all items in a list to one value (like sum() min() etc.)\n",
    "# This function should take in two parameters and return 1 like below\n",
    "\n",
    "list_1 = [2,4,6,8,10]\n",
    "\n",
    "def addNums(num1,num2):\n",
    "    return num1 + num2\n",
    "\n",
    "result_add = reduce(addNums,list_1)\n",
    "\n",
    "print(result_add)\n",
    "\n",
    "# Subtract a list of numbers\n",
    "def subtractNums(num1,num2):\n",
    "    return num1 - num2\n",
    "\n",
    "result_sub = reduce(subtractNums, list_1)\n",
    "print(result_sub)\n"
   ]
  },
  {
   "cell_type": "markdown",
   "metadata": {},
   "source": [
    "#### Using Lambda's with Reduce()"
   ]
  },
  {
   "cell_type": "code",
   "execution_count": 68,
   "metadata": {},
   "outputs": [
    {
     "name": "stdout",
     "output_type": "stream",
     "text": [
      "30\n"
     ]
    }
   ],
   "source": [
    "result_lamb = reduce(lambda x,y: x + y, list_1)\n",
    "print(result_lamb)"
   ]
  },
  {
   "cell_type": "markdown",
   "metadata": {},
   "source": [
    "#### In-Class Exercise #4 <br>\n",
    "<p>Use the reduce function to multiply the numbers in the list below together with a lambda function.</p>"
   ]
  },
  {
   "cell_type": "code",
   "execution_count": null,
   "metadata": {},
   "outputs": [],
   "source": []
  },
  {
   "cell_type": "markdown",
   "metadata": {},
   "source": [
    "## .Sort() w/ lambda!\n"
   ]
  },
  {
   "cell_type": "code",
   "execution_count": null,
   "metadata": {},
   "outputs": [],
   "source": [
    "# list.sort(reverse=True|False, key=myFunc)"
   ]
  },
  {
   "cell_type": "markdown",
   "metadata": {},
   "source": [
    "## Recursion <br>\n",
    "<p>Recursion means that a function is calling itself, so it contanstly executes until a base case is reached. It will then push the returning values back up the chain until the function is complete. A prime example of recursion is computing factorials... such that 5! (factorial) is 5*4*3*2*1 which equals 120.</p>"
   ]
  },
  {
   "cell_type": "markdown",
   "metadata": {},
   "source": [
    "#### Implementing a Base Case"
   ]
  },
  {
   "cell_type": "code",
   "execution_count": 29,
   "metadata": {},
   "outputs": [
    {
     "name": "stdout",
     "output_type": "stream",
     "text": [
      "addNums(1) = 1 + addNums(2)\n",
      "addNums(2) = 2 + addNums(3)\n",
      "addNums(3) = 3 + addNums(4)\n",
      "addNums(4) = 4 + addNums(5)\n",
      "addNums(5) = 5 + addNums(6)\n",
      "addNums(6) = 6 + addNums(7)\n",
      "addNums(7) = 7 + addNums(8)\n",
      "addNums(8) = 8 + addNums(9)\n",
      "addNums(9) = 9 + addNums(10)\n",
      "addNums(10) = 10\n"
     ]
    },
    {
     "data": {
      "text/plain": [
       "55"
      ]
     },
     "execution_count": 29,
     "metadata": {},
     "output_type": "execute_result"
    }
   ],
   "source": [
    "# First one is an infinite loop:\n",
    "# def addNums(num):\n",
    "#     return num + addNums(num+1)\n",
    "# addNums(1)\n",
    "                    #Because: 1: 1+addNums(2)\n",
    "                    #         2: 2+addNums(3)\n",
    "                    #         3: 3+addNums(4). . .  etc forever!\n",
    "\n",
    "# SOOoooo we need to add a base case!\n",
    "# def addNums(num):\n",
    "#     if num >= 10:\n",
    "#         print('addNums(10) = 10')\n",
    "#         return num\n",
    "#     else:\n",
    "#         print(f\"addNums({num}) = {num} + addNums({num+1})\")\n",
    "#         return num + addNums(num+1)\n",
    "                    \n",
    "# addNums(1)\n",
    "\n",
    "# SSSOOOOOOO:  First we have to perform these operations all the way down until we hit our base case and THEN\n",
    "# we can say- \"hey, we finally have a solution for addNums(10)!  It's 10! let's plug that in backwards down the line\"\n",
    "#     addNums(1) = 1 + addNums(2)\n",
    "#     addNums(2) = 2 + addNums(3)\n",
    "#     addNums(3) = 3 + addNums(4)\n",
    "#     addNums(4) = 4 + addNums(5)\n",
    "#     addNums(5) = 5 + addNums(6)\n",
    "#     addNums(6) = 6 + addNums(7)\n",
    "#     addNums(7) = 7 + addNums(8)\n",
    "#     addNums(8) = 8 + addNums(9)  -->addnums(9) is now 9! so we add 8 to that!\n",
    "#     addNums(9) = 9 + addNums(10) -->addNums(10) is now 10! so we add 9 to that!\n",
    "#     addNums(10) = 10\n",
    "\n",
    "# def addNums(num):\n",
    "#     # Set base case for recusive function!!!!\n",
    "#     if num <= 1:\n",
    "#         print(\"addNums(1) = 1\")\n",
    "#         return num\n",
    "        # recursive case!!!!\n",
    "#     else:\n",
    "#         print(f\"addNums({num}) = {num} + addNums({num - 1})\")\n",
    "#         return num + addNums(num - 1)\n",
    "# addNums(5)\n",
    "\n",
    "# Final notes: similar idea to while loop in incrementing counts so you don't have infinite loops"
   ]
  },
  {
   "cell_type": "markdown",
   "metadata": {},
   "source": [
    "#### Writing a Factorial Function"
   ]
  },
  {
   "cell_type": "code",
   "execution_count": 3,
   "metadata": {},
   "outputs": [
    {
     "name": "stdout",
     "output_type": "stream",
     "text": [
      "1 5\n",
      "5 4\n",
      "20 3\n",
      "60 2\n",
      "120 1\n",
      "120\n"
     ]
    },
    {
     "data": {
      "text/plain": [
       "120"
      ]
     },
     "execution_count": 3,
     "metadata": {},
     "output_type": "execute_result"
    }
   ],
   "source": [
    "# 5! = 5 * 4 * 3 * 2 * 1\n",
    "# just to show the while loop version:\n",
    "def factorial2(num):\n",
    "    count = 1\n",
    "    while num >=1:\n",
    "        print(count, num)\n",
    "        count = num * count\n",
    "        num -= 1\n",
    "    return count\n",
    "    \n",
    "print(factorial2(5))\n",
    "    \n",
    "def factorial(num):\n",
    "    if num <= 1:\n",
    "        return 1\n",
    "    else:\n",
    "        return num * factorial(num - 1)\n",
    "    \n",
    "factorial(5)\n"
   ]
  },
  {
   "cell_type": "markdown",
   "metadata": {},
   "source": [
    "#### In-Class Exercise #5 <br>\n",
    "<p>Write a recursive function that subtracts all numbers to the argument given.</p>"
   ]
  },
  {
   "cell_type": "code",
   "execution_count": null,
   "metadata": {},
   "outputs": [],
   "source": []
  },
  {
   "cell_type": "markdown",
   "metadata": {},
   "source": [
    "## Generators <br>\n",
    "<p>Generators are a type of iterable, like lists or tuples. They do not allow indexing, but they can still be iterated through with for loops. They are created using functions and the yield statement.</p>"
   ]
  },
  {
   "cell_type": "markdown",
   "metadata": {},
   "source": [
    "#### Yield Keyword <br>\n",
    "<p>The yield keyword denotes a generator, it doesn't return so it won't leave the function and reset all variables in the function scope, instead it yields the number back to the caller.</p>"
   ]
  },
  {
   "cell_type": "code",
   "execution_count": 40,
   "metadata": {},
   "outputs": [
    {
     "name": "stdout",
     "output_type": "stream",
     "text": [
      "range(1, 10)\n",
      "<class 'range'>\n",
      "5\n"
     ]
    }
   ],
   "source": [
    "range(1,10)\n",
    "print(range(1,10))\n",
    "print(type(range(1,10)))\n",
    "# help(range)\n",
    "print(range(1,10)[4])\n",
    "\n",
    "# Generators aren't storing the data, it's storing the formula to generate it on the fly.  Kind of like a for loop.\n",
    "# in this exp:  num is never stored it's just spit out and overwritten on the next iteration-->\n",
    "# for num in range(10000):\n",
    "#     num. . . \n",
    "\n",
    "# now let's make one!"
   ]
  },
  {
   "cell_type": "code",
   "execution_count": 43,
   "metadata": {},
   "outputs": [
    {
     "name": "stdout",
     "output_type": "stream",
     "text": [
      "5\n",
      "10\n",
      "15\n",
      "20\n",
      "25\n",
      "30\n",
      "35\n",
      "40\n",
      "45\n"
     ]
    }
   ],
   "source": [
    "def my_range(start, stop, step ):\n",
    "    while start < stop:\n",
    "        yield start # yield keyword denotes a generator and generally means keep returning.\n",
    "        start += step\n",
    "# my_range(2, 22, 2)# show the generator object\n",
    "# my_range(2, 22, 2)[5] #not indexed!!!  Range is. . . \n",
    "\n",
    "for i in my_range(5, 50, 5):\n",
    "    print(i)\n",
    "\n"
   ]
  },
  {
   "cell_type": "markdown",
   "metadata": {},
   "source": [
    "#### Infinite Generator"
   ]
  },
  {
   "cell_type": "code",
   "execution_count": null,
   "metadata": {},
   "outputs": [],
   "source": [
    "# bad, never create infinite loops\n",
    "# create a stop!"
   ]
  },
  {
   "cell_type": "markdown",
   "metadata": {},
   "source": [
    "#### In-Class Exercise #6 <br>\n",
    "<p>Create a generator that takes a number argument and yields that number squared, then prints each number squared until zero is reached.</p>"
   ]
  },
  {
   "cell_type": "code",
   "execution_count": null,
   "metadata": {},
   "outputs": [],
   "source": []
  },
  {
   "cell_type": "markdown",
   "metadata": {},
   "source": [
    "# Exercises"
   ]
  },
  {
   "cell_type": "markdown",
   "metadata": {},
   "source": [
    "### Exercise #1 <br>\n",
    "<p>Filter out all of the empty strings from the list below</p>\n",
    "\n",
    "`Output: ['Argentina', 'San Diego', 'Boston', 'New York']`"
   ]
  },
  {
   "cell_type": "code",
   "execution_count": 52,
   "metadata": {},
   "outputs": [
    {
     "name": "stdout",
     "output_type": "stream",
     "text": [
      "[' ', 'Argentina', ' ', 'San Diego', '', '  ', '', 'Boston', 'New York']\n",
      "['Argentina', 'San Diego', '  ', 'Boston', 'New York']\n",
      "['Argentina', 'Boston', 'New Cork', 'San Diego']\n"
     ]
    }
   ],
   "source": [
    "places = [\" \",\"Argentina\", \" \", \"San Diego\",\"\",\"  \",\"\",\"Boston\",\"New York\"]\n",
    "output = ['Argentina', 'San Diego', 'Boston', 'New York'] #yet another example 'New Cork'\n",
    "print(places)\n",
    "\n",
    "while \" \" in places:\n",
    "    places.remove(\" \")\n",
    "    places.remove(\"\")\n",
    "   \n",
    "   \n",
    "print(places)\n",
    "\n",
    "print(sorted(output, key=lambda p: p.split()[-1]))"
   ]
  },
  {
   "cell_type": "code",
   "execution_count": 1,
   "metadata": {},
   "outputs": [
    {
     "name": "stdout",
     "output_type": "stream",
     "text": [
      "Old List : [' ', 'Argentina', ' ', 'San Diego', '', '  ', '', 'Boston', 'New York']\n",
      "New List : ['Argentina', 'San Diego', 'Boston', 'New York']\n"
     ]
    }
   ],
   "source": [
    "places = [\" \",\"Argentina\", \" \", \"San Diego\",\"\",\"  \",\"\",\"Boston\",\"New York\"]\n",
    "\n",
    "print (\"Old List : \" + str(places))\n",
    "while(\"\" in places) :\n",
    "    places.remove(\"\")\n",
    "while(\" \" in places) :\n",
    "    places.remove(\" \")\n",
    "while(\"\" in places) :\n",
    "    places.remove(\"\")\n",
    "while(\"  \" in places) :\n",
    "    places.remove(\"  \")\n",
    "print (\"New List : \" + str(places))"
   ]
  },
  {
   "cell_type": "code",
   "execution_count": null,
   "metadata": {},
   "outputs": [],
   "source": [
    "places = [\" \",\"Argentina\", \" \", \"San Diego\",\"\",\"  \",\"\",\"Boston\",\"New York\"]\n",
    "\n",
    "places_new = list(filter(lambda x: len(x)> 4, places))\n",
    "\n",
    "print(places_new)"
   ]
  },
  {
   "cell_type": "markdown",
   "metadata": {},
   "source": [
    "### Exercise #2 <br>\n",
    "<p>Write an anonymous function that sorts this list by the last name...<br><b>Hint: Use the \".sort()\" method and access the key\"</b></p>\n",
    "\n",
    "`Output: ['Victor aNisimov', 'Gary A.J. Bernstein', 'Joel Carter', 'Andrew P. Garfield', 'David hassELHOFF']`"
   ]
  },
  {
   "cell_type": "code",
   "execution_count": 2,
   "metadata": {},
   "outputs": [
    {
     "name": "stdout",
     "output_type": "stream",
     "text": [
      "['Victor aNisimov', 'Gary A.J. Bernstein', 'Joel Carter', 'Andrew P. Garfield', 'David hassELHOFF']\n"
     ]
    }
   ],
   "source": [
    "author = [\"Joel Carter\", \"Victor aNisimov\", \"Andrew P. Garfield\",\"David hassELHOFF\",\"Gary A.J. Bernstein\"]\n",
    "\n",
    "author = [\"Joel Carter\", \"Victor aNisimov\", \"Andrew P. Garfield\",\"David hassELHOFF\",\"Gary A.J. Bernstein\"]\n",
    "\n",
    "author.sort(key=lambda last: last.split()[-1].lower())\n",
    "print(author)"
   ]
  },
  {
   "cell_type": "code",
   "execution_count": 3,
   "metadata": {},
   "outputs": [
    {
     "data": {
      "text/plain": [
       "['Victor aNisimov',\n",
       " 'Gary A.J. Bernstein',\n",
       " 'Joel Carter',\n",
       " 'Andrew P. Garfield',\n",
       " 'David hassELHOFF']"
      ]
     },
     "execution_count": 3,
     "metadata": {},
     "output_type": "execute_result"
    }
   ],
   "source": [
    "author = [\"Joel Carter\", \"Victor aNisimov\", \"Andrew P. Garfield\",\"David hassELHOFF\",\"Gary A.J. Bernstein\"]\n",
    "\n",
    "sorted(author, key=lambda x: x.split(\" \")[-1].lower())"
   ]
  },
  {
   "cell_type": "markdown",
   "metadata": {},
   "source": [
    "### Exercise #3 <br>\n",
    "<p>Convert the list below from Celsius to Farhenheit, using the map function with a lambda...</p>\n",
    "\n",
    "`Output: [('Nashua', 89.6), ('Boston', 53.6), ('Los Angelos', 111.2), ('Miami', 84.2)]\n",
    "`"
   ]
  },
  {
   "cell_type": "code",
   "execution_count": 8,
   "metadata": {},
   "outputs": [
    {
     "name": "stdout",
     "output_type": "stream",
     "text": [
      "[('Nashua', 89.6), ('Boston', 53.6), ('Los Angelos', 111.2), ('Miami', 84.2)]\n"
     ]
    }
   ],
   "source": [
    "# F = (9/5)*C + 32\n",
    "places = [('Nashua',32),(\"Boston\",12),(\"Los Angelos\",44),(\"Miami\",29)]\n",
    "my_places = list(map(lambda c: (c[0], (9/5)* c[1]+32), places))\n",
    "print(my_places)"
   ]
  },
  {
   "cell_type": "code",
   "execution_count": 4,
   "metadata": {},
   "outputs": [
    {
     "name": "stdout",
     "output_type": "stream",
     "text": [
      "Celsius [32 12 44 29]\n",
      "Fahrenheit [ 89.6  53.6 111.2  84.2]\n",
      "[('Nashua', 32), ('Boston', 12), ('Los Angelos', 44), ('Miami', 29)]\n"
     ]
    }
   ],
   "source": [
    "# F = (9/5)*C + 32\n",
    "places = [('Nashua',32),(\"Boston\",12),(\"Los Angelos\",44),(\"Miami\",29)]\n",
    "\n",
    "import numpy as np\n",
    "inp = [32,12,44,29]\n",
    "\n",
    "cel = np.array(inp)\n",
    " \n",
    "print(f\"Celsius {cel}\")\n",
    "\n",
    "feh = (9 * cel / 5 + 32)\n",
    " \n",
    "print(f\"Fahrenheit {feh}\")\n",
    "print(places)"
   ]
  },
  {
   "cell_type": "markdown",
   "metadata": {},
   "source": [
    "### Exercise #4 <br>\n",
    "<p>Write a recursion function to perform the fibonacci sequence up to the number passed in.</p>\n",
    "\n",
    "`Output for fib(5) => \n",
    "Iteration 0: 1\n",
    "Iteration 1: 1\n",
    "Iteration 2: 2\n",
    "Iteration 3: 3\n",
    "Iteration 4: 5\n",
    "Iteration 5: 8`"
   ]
  },
  {
   "cell_type": "code",
   "execution_count": 1,
   "metadata": {
    "scrolled": true
   },
   "outputs": [
    {
     "name": "stdout",
     "output_type": "stream",
     "text": [
      "Iteration 0: 1\n",
      "Iteration 1: 2\n",
      "Iteration 2: 3\n",
      "Iteration 3: 5\n",
      "Iteration 4: 8\n",
      "Iteration 5: 13\n",
      "None\n",
      "34\n"
     ]
    }
   ],
   "source": [
    "def fibNum(n):\n",
    "    step = 1\n",
    "    if n <= 1:\n",
    "        return 1\n",
    "    else:\n",
    "        return fibNum(n-2) + fibNum(n-1)\n",
    "    \n",
    "def fibSeq(num):\n",
    "    count = 0\n",
    "    for x in range(num +2)[1:]:\n",
    "        print(f\"Iteration {count}: {fibNum(x)}\")\n",
    "        count +=1\n",
    "        \n",
    "print(fibSeq(5))\n",
    "print(fibNum(8))"
   ]
  },
  {
   "cell_type": "code",
   "execution_count": 1,
   "metadata": {},
   "outputs": [
    {
     "data": {
      "text/plain": [
       "89"
      ]
     },
     "execution_count": 1,
     "metadata": {},
     "output_type": "execute_result"
    }
   ],
   "source": [
    "def recur_fib(num):\n",
    "    # Set base case for recusive function\n",
    "    if num <= 1:\n",
    "        return num\n",
    "    else:\n",
    "        return recur_fib(num-1) + recur_fib(num-2)\n",
    "\n",
    "        print(f\"Iteration {num}: {recur_fib(num-1) + recur_fib (num-2)}\")\n",
    "recur_fib(5)"
   ]
  },
  {
   "cell_type": "code",
   "execution_count": 11,
   "metadata": {},
   "outputs": [
    {
     "name": "stdout",
     "output_type": "stream",
     "text": [
      "['Victor aNisimov', 'Gary A.J. Bernstein', 'Joel Carter', 'Andrew P. Garfield', 'David hassELHOFF']\n"
     ]
    }
   ],
   "source": [
    "author = [\"Joel Carter\", \"Victor aNisimov\", \"Andrew P. Garfield\",\"David hassELHOFF\",\"Gary A.J. Bernstein\"]\n",
    "\n",
    "\n",
    "author.sort(key = lambda l_name: l_name.split(\" \")[-1].lower())\n",
    "print(author)\n"
   ]
  },
  {
   "cell_type": "code",
   "execution_count": 9,
   "metadata": {},
   "outputs": [
    {
     "name": "stdout",
     "output_type": "stream",
     "text": [
      "Iteration 0: 0\n",
      "Iteration 1: 1\n",
      "Iteration 2: 1\n",
      "Iteration 3: 2\n",
      "Iteration 4: 3\n",
      "Iteration 5: 5\n",
      "Iteration 6: 8\n",
      "Iteration 7: 13\n",
      "Iteration 8: 21\n",
      "Iteration 9: 34\n",
      "Iteration 10: 55\n"
     ]
    }
   ],
   "source": [
    "\n",
    "def fib(num):\n",
    "    if num > 1:\n",
    "        return fib(num-1) + fib(num-2)\n",
    "    return num\n",
    "for i in range(11):\n",
    "    print(f\"Iteration {i}: {fib(i)}\")"
   ]
  },
  {
   "cell_type": "code",
   "execution_count": null,
   "metadata": {},
   "outputs": [],
   "source": [
    "new_places = list(filter(lambda place: place.strip(), places))"
   ]
  },
  {
   "cell_type": "code",
   "execution_count": 5,
   "metadata": {},
   "outputs": [
    {
     "name": "stdout",
     "output_type": "stream",
     "text": [
      "0\n",
      "1\n",
      "1\n",
      "2\n",
      "3\n",
      "5\n",
      "8\n",
      "13\n",
      "21\n",
      "34\n",
      "55\n",
      "89\n",
      "144\n",
      "233\n",
      "377\n",
      "610\n",
      "987\n",
      "1597\n",
      "2584\n",
      "4181\n"
     ]
    }
   ],
   "source": [
    "def fib(num):\n",
    "    if num <= 1:\n",
    "        return num\n",
    "    else:\n",
    "        return(fib(num-1) + fib(num-2))\n",
    "\n",
    "nums = 20\n",
    "\n",
    "for n in range(nums):\n",
    "    print(fib(n))"
   ]
  },
  {
   "cell_type": "code",
   "execution_count": 3,
   "metadata": {},
   "outputs": [
    {
     "name": "stdout",
     "output_type": "stream",
     "text": [
      "bob\n"
     ]
    }
   ],
   "source": [
    "places = ['', '   ', 'bob']\n",
    "def ns():\n",
    "    return p and not"
   ]
  },
  {
   "cell_type": "code",
   "execution_count": null,
   "metadata": {},
   "outputs": [
    {
     "name": "stdout",
     "output_type": "stream",
     "text": [
      "What would you like to do? (add/remove/view/quit)add\n",
      "What would you like to add? tomato\n",
      "How many would you like to add? 23\n",
      "What is the price? 56\n",
      "<__main__.Item object at 0x0000026890563400> <class '__main__.Item'>\n",
      "{'name': 'tomato', 'number': 23, 'price': '56'}\n"
     ]
    }
   ],
   "source": [
    "class Cart:\n",
    "    def __init__(self):\n",
    "        self.items = []\n",
    "\n",
    "    def add_items(self):\n",
    "        name = input(\"What would you like to add? \")\n",
    "        number = int(input(\"How many would you like to add? \"))\n",
    "        price = input(\"What is the price? \")\n",
    "\n",
    "        new_item = Item(name, number, price)\n",
    "        print(new_item, type(new_item))\n",
    "        print(new_item.__dict__)\n",
    "        self.items.append(new_item)\n",
    "\n",
    "    def remove_item(self):\n",
    "        remove_item = input('Which item would you like to remove? ')\n",
    "        remove_number= input('How many? ')\n",
    "        for i in range(len(self.items)):\n",
    "            if self.items[i].name.lower() == remove_item.lower():\n",
    "                if remove_number.isdigit():\n",
    "                    remove_number = int(remove_number)\n",
    "                    self.items[i].number -= remove_number\n",
    "                    print(f'{remove_number} {remove_item} were removed.')\n",
    "                    if self.items[i].number < 1:\n",
    "                        self.items.pop(i)\n",
    "                        print(f'{remove_item} was removed')\n",
    "                        break\n",
    "                    else:\n",
    "                        break\n",
    "                print('Please enter number in digits')\n",
    "            else:\n",
    "                print(f'{remove_item} not found')\n",
    "\n",
    "    \n",
    "    def view_items(self):\n",
    "        for item in self.items:\n",
    "            print(f'{item.number} {item.name} at ${item.price}')\n",
    "    def run(self):\n",
    "        while True:\n",
    "           while True:\n",
    "            user_choice = input(\"What would you like to do? (add/remove/view/quit)\").lower()\n",
    "            \n",
    "            if user_choice == 'add':\n",
    "                self.add_items()\n",
    "            elif user_choice == 'remove':\n",
    "                self.remove_item()\n",
    "            elif user_choice == 'view':\n",
    "                self.view_items()\n",
    "            elif user_choice == 'quit':\n",
    "                self.view_items()\n",
    "                return\n",
    "            else:\n",
    "                print('input unsupported, please try again') \n",
    "\n",
    "\n",
    "\n",
    "class Item:\n",
    "    def __init__(self, name, number, price):\n",
    "        self.name = name\n",
    "        self.number = number\n",
    "        self.price = price\n",
    "\n",
    "shop = Cart()\n",
    "\n",
    "shop.run()"
   ]
  }
 ],
 "metadata": {
  "kernelspec": {
   "display_name": "Python 3 (ipykernel)",
   "language": "python",
   "name": "python3"
  },
  "language_info": {
   "codemirror_mode": {
    "name": "ipython",
    "version": 3
   },
   "file_extension": ".py",
   "mimetype": "text/x-python",
   "name": "python",
   "nbconvert_exporter": "python",
   "pygments_lexer": "ipython3",
   "version": "3.9.7"
  }
 },
 "nbformat": 4,
 "nbformat_minor": 2
}
